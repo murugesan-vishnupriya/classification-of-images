{
  "nbformat": 4,
  "nbformat_minor": 0,
  "metadata": {
    "colab": {
      "provenance": []
    },
    "kernelspec": {
      "name": "python3",
      "display_name": "Python 3"
    },
    "language_info": {
      "name": "python"
    }
  },
  "cells": [
    {
      "cell_type": "code",
      "execution_count": 2,
      "metadata": {
        "colab": {
          "base_uri": "https://localhost:8080/"
        },
        "id": "RY0bnooPK1CK",
        "outputId": "6d2637cc-7a2d-43a3-f53d-093fd2948454"
      },
      "outputs": [
        {
          "output_type": "stream",
          "name": "stdout",
          "text": [
            "Downloading data from https://www.cs.toronto.edu/~kriz/cifar-10-python.tar.gz\n",
            "170498071/170498071 [==============================] - 8s 0us/step\n",
            "Epoch 1/10\n",
            "1563/1563 [==============================] - 75s 47ms/step - loss: 1.5592 - accuracy: 0.4288 - val_loss: 1.2737 - val_accuracy: 0.5434\n",
            "Epoch 2/10\n",
            "1563/1563 [==============================] - 74s 47ms/step - loss: 1.1921 - accuracy: 0.5775 - val_loss: 1.1142 - val_accuracy: 0.6064\n",
            "Epoch 3/10\n",
            "1563/1563 [==============================] - 70s 45ms/step - loss: 1.0498 - accuracy: 0.6292 - val_loss: 1.0578 - val_accuracy: 0.6286\n",
            "Epoch 4/10\n",
            "1563/1563 [==============================] - 70s 45ms/step - loss: 0.9556 - accuracy: 0.6655 - val_loss: 0.9824 - val_accuracy: 0.6560\n",
            "Epoch 5/10\n",
            "1563/1563 [==============================] - 70s 45ms/step - loss: 0.8815 - accuracy: 0.6900 - val_loss: 0.9348 - val_accuracy: 0.6713\n",
            "Epoch 6/10\n",
            "1563/1563 [==============================] - 71s 45ms/step - loss: 0.8241 - accuracy: 0.7112 - val_loss: 0.9354 - val_accuracy: 0.6774\n",
            "Epoch 7/10\n",
            "1563/1563 [==============================] - 69s 44ms/step - loss: 0.7743 - accuracy: 0.7286 - val_loss: 0.8964 - val_accuracy: 0.6876\n",
            "Epoch 8/10\n",
            "1563/1563 [==============================] - 70s 45ms/step - loss: 0.7333 - accuracy: 0.7413 - val_loss: 0.9009 - val_accuracy: 0.6902\n",
            "Epoch 9/10\n",
            "1563/1563 [==============================] - 71s 46ms/step - loss: 0.6962 - accuracy: 0.7556 - val_loss: 0.8597 - val_accuracy: 0.7066\n",
            "Epoch 10/10\n",
            "1563/1563 [==============================] - 69s 44ms/step - loss: 0.6628 - accuracy: 0.7664 - val_loss: 0.8546 - val_accuracy: 0.7105\n",
            "313/313 [==============================] - 4s 14ms/step - loss: 0.8546 - accuracy: 0.7105\n",
            "Test accuracy: 0.7105000019073486\n"
          ]
        }
      ],
      "source": [
        "import tensorflow as tf\n",
        "from tensorflow.keras import datasets, layers, models\n",
        "\n",
        "# Load and preprocess the CIFAR-10 dataset\n",
        "(train_images, train_labels), (test_images, test_labels) = datasets.cifar10.load_data()\n",
        "train_images, test_images = train_images / 255.0, test_images / 255.0\n",
        "\n",
        "# Define the CNN model\n",
        "model = models.Sequential([\n",
        "    layers.Conv2D(32, (3, 3), activation='relu', input_shape=(32, 32, 3)),\n",
        "    layers.MaxPooling2D((2, 2)),\n",
        "    layers.Conv2D(64, (3, 3), activation='relu'),\n",
        "    layers.MaxPooling2D((2, 2)),\n",
        "    layers.Conv2D(64, (3, 3), activation='relu'),\n",
        "    layers.Flatten(),\n",
        "    layers.Dense(64, activation='relu'),\n",
        "    layers.Dense(10)\n",
        "])\n",
        "\n",
        "# Compile the model\n",
        "model.compile(optimizer='adam',\n",
        "              loss=tf.keras.losses.SparseCategoricalCrossentropy(from_logits=True),\n",
        "              metrics=['accuracy'])\n",
        "\n",
        "# Train the model\n",
        "history = model.fit(train_images, train_labels, epochs=10,\n",
        "                    validation_data=(test_images, test_labels))\n",
        "\n",
        "# Evaluate the model\n",
        "test_loss, test_acc = model.evaluate(test_images, test_labels)\n",
        "print(\"Test accuracy:\", test_acc)"
      ]
    }
  ]
}